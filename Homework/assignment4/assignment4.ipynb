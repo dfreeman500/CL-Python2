{
 "cells": [
  {
   "cell_type": "markdown",
   "metadata": {
    "deletable": false,
    "editable": false,
    "nbgrader": {
     "checksum": "48770f8b5f5d3062d3badd51fcafc401",
     "grade": false,
     "grade_id": "cell-a6c4f74309fc2379",
     "locked": true,
     "schema_version": 1,
     "solution": false
    }
   },
   "source": [
    "# Assignment 4\n",
    "## Description\n",
    "In this assignment you must read in a file of metropolitan regions and associated sports teams from [assets/wikipedia_data.html](assets/wikipedia_data.html) and answer some questions about each metropolitan region. Each of these regions may have one or more teams from the \"Big 4\": NFL (football, in [assets/nfl.csv](assets/nfl.csv)), MLB (baseball, in [assets/mlb.csv](assets/mlb.csv)), NBA (basketball, in [assets/nba.csv](assets/nba.csv) or NHL (hockey, in [assets/nhl.csv](assets/nhl.csv)). Please keep in mind that all questions are from the perspective of the metropolitan region, and that this file is the \"source of authority\" for the location of a given sports team. Thus teams which are commonly known by a different area (e.g. \"Oakland Raiders\") need to be mapped into the metropolitan region given (e.g. San Francisco Bay Area). This will require some human data understanding outside of the data you've been given (e.g. you will have to hand-code some names, and might need to google to find out where teams are)!\n",
    "\n",
    "For each sport I would like you to answer the question: **what is the win/loss ratio's correlation with the population of the city it is in?** Win/Loss ratio refers to the number of wins over the number of wins plus the number of losses. Remember that to calculate the correlation with [`pearsonr`](https://docs.scipy.org/doc/scipy/reference/generated/scipy.stats.pearsonr.html), so you are going to send in two ordered lists of values, the populations from the wikipedia_data.html file and the win/loss ratio for a given sport in the same order. Average the win/loss ratios for those cities which have multiple teams of a single sport. Each sport is worth an equal amount in this assignment (20%\\*4=80%) of the grade for this assignment. You should only use data **from year 2018** for your analysis -- this is important!\n",
    "\n",
    "## Notes\n",
    "\n",
    "1. Do not include data about the MLS or CFL in any of the work you are doing, we're only interested in the Big 4 in this assignment.\n",
    "2. I highly suggest that you first tackle the four correlation questions in order, as they are all similar and worth the majority of grades for this assignment. This is by design!\n",
    "3. It's fair game to talk with peers about high level strategy as well as the relationship between metropolitan areas and sports teams. However, do not post code solving aspects of the assignment (including such as dictionaries mapping areas to teams, or regexes which will clean up names).\n",
    "4. There may be more teams than the assert statements test, remember to collapse multiple teams in one city into a single value!"
   ]
  },
  {
   "cell_type": "markdown",
   "metadata": {
    "deletable": false,
    "editable": false,
    "nbgrader": {
     "checksum": "369ff9ecf0ee04640574205cbc697f94",
     "grade": false,
     "grade_id": "cell-712b2b5da63d4505",
     "locked": true,
     "schema_version": 1,
     "solution": false
    }
   },
   "source": [
    "## Question 1\n",
    "For this question, calculate the win/loss ratio's correlation with the population of the city it is in for the **NHL** using **2018** data."
   ]
  },
  {
   "cell_type": "code",
   "execution_count": 14,
   "metadata": {},
   "outputs": [
    {
     "output_type": "stream",
     "name": "stdout",
     "text": [
      "dict_values([['New York Rangers', 'New York Islanders', 'New Jersey Devils'], ['Los Angeles Kings', 'Anaheim Ducks'], 'San Jose Sharks', 'Chicago Blackhawks', 'Dallas Stars', 'Washington Capitals', 'Philadelphia Flyers', 'Boston Bruins', 'Minnesota Wild', 'Colorado Avalanche', 'Florida Panthers', ['Arizona Coyotes', 'Phoenix Coyotes'], 'Detroit Red Wings', 'Toronto Maple Leafs', '', '', 'Tampa Bay Lightning', 'Pittsburgh Penguins', '', '', '', '', 'St. Louis Blues', '', '', '', 'Nashville Predators', '', '', 'Buffalo Sabres', 'Montreal Canadiens', 'Vancouver Canucks', '', '', 'Columbus Blue Jackets', 'Calgary Flames', 'Ottawa Senators', 'Edmonton Oilers', '', 'Winnipeg Jets', '', '', '', 'Vegas Golden Knights', '', '', '', 'Carolina Hurricanes', '', '', ''])\n"
     ]
    }
   ],
   "source": [
    "metroRegionNHL = {\n",
    "\n",
    "'New York City': ['New York Rangers', 'New York Islanders', 'New Jersey Devils'],\n",
    "'Los Angeles' : ['Los Angeles Kings', 'Anaheim Ducks' ],\n",
    "'San Francisco Bay Area':'San Jose Sharks',\n",
    "'Chicago': 'Chicago Blackhawks',\n",
    "'Dallas–Fort Worth': 'Dallas Stars',\n",
    "'Washington, D.C.': 'Washington Capitals',\n",
    "'Philadelphia': 'Philadelphia Flyers',\n",
    "'Boston': 'Boston Bruins',\n",
    "'Minneapolis–Saint Paul': 'Minnesota Wild',\n",
    "'Denver' : 'Colorado Avalanche',\n",
    "'Miami–Fort Lauderdale' :'Florida Panthers',\n",
    "'Phoenix':['Arizona Coyotes', 'Phoenix Coyotes'],\n",
    "'Detroit' : 'Detroit Red Wings',\n",
    "'Toronto' : 'Toronto Maple Leafs',\n",
    "'Houston' : '',\n",
    "'Atlanta' : '',\n",
    "'Tampa Bay Area' : 'Tampa Bay Lightning',\n",
    "'Pittsburgh' : 'Pittsburgh Penguins',\n",
    "'Cleveland' : '',\n",
    "'Seattle' : '',\n",
    "'Cincinnati' : '',\n",
    "'Kansas City' : '',\n",
    "'St. Louis' : 'St. Louis Blues',\n",
    "'Baltimore' : '',\n",
    "'Charlotte' : '',\n",
    "'Indianapolis' : '',\n",
    "'Nashville' : 'Nashville Predators',\n",
    "'Milwaukee' : '',\n",
    "'New Orleans' : '',\n",
    "'Buffalo' : 'Buffalo Sabres',\n",
    "'Montreal' : 'Montreal Canadiens',\n",
    "'Vancouver' : 'Vancouver Canucks',\n",
    "'Orlando' : '',\n",
    "'Portland' : '',\n",
    "'Columbus' : 'Columbus Blue Jackets',\n",
    "'Calgary' : 'Calgary Flames',\n",
    "'Ottawa' : 'Ottawa Senators',\n",
    "'Edmonton' : 'Edmonton Oilers',\n",
    "'Salt Lake City' : '',\n",
    "'Winnipeg' : 'Winnipeg Jets',\n",
    "'San Diego' : '',\n",
    "'San Antonio' : '',\n",
    "'Sacramento' : '',\n",
    "'Las Vegas' : 'Vegas Golden Knights', \n",
    "'Jacksonville' : '',\n",
    "'Oklahoma City' : '',\n",
    "'Memphis' : '',\n",
    "'Raleigh' : 'Carolina Hurricanes', \n",
    "'Green Bay' : '',\n",
    "'Hamilton' : '',\n",
    "'Regina' : ''\n",
    "}\n",
    "\n",
    "print(metroRegionNBA.values())"
   ]
  },
  {
   "cell_type": "code",
   "execution_count": 15,
   "metadata": {},
   "outputs": [
    {
     "output_type": "stream",
     "name": "stdout",
     "text": [
      "now the df\n                     team       metropolitan area  ...  year population\n1     Tampa Bay Lightning          Tampa Bay Area  ...  2018    3032171\n2           Boston Bruins                  Boston  ...  2018    4794447\n3     Toronto Maple Leafs                 Toronto  ...  2018    5928040\n4        Florida Panthers   Miami–Fort Lauderdale  ...  2018    6066387\n5       Detroit Red Wings                 Detroit  ...  2018    4297617\n6      Montreal Canadiens                Montreal  ...  2018    4098927\n7         Ottawa Senators                  Ottawa  ...  2018    1323783\n8          Buffalo Sabres                 Buffalo  ...  2018    1132804\n10    Washington Capitals        Washington, D.C.  ...  2018    6131977\n11    Pittsburgh Penguins              Pittsburgh  ...  2018    2342299\n12    Philadelphia Flyers            Philadelphia  ...  2018    6070500\n13  Columbus Blue Jackets                Columbus  ...  2018    2041520\n14      New Jersey Devils           New York City  ...  2018   20153634\n15    Carolina Hurricanes                 Raleigh  ...  2018    1302946\n16     New York Islanders           New York City  ...  2018   20153634\n17       New York Rangers           New York City  ...  2018   20153634\n19    Nashville Predators               Nashville  ...  2018    1865298\n20          Winnipeg Jets                Winnipeg  ...  2018     778489\n21         Minnesota Wild  Minneapolis–Saint Paul  ...  2018    3551036\n22     Colorado Avalanche                  Denver  ...  2018    2853077\n23        St. Louis Blues               St. Louis  ...  2018    2807002\n24           Dallas Stars       Dallas–Fort Worth  ...  2018    7233323\n25     Chicago Blackhawks                 Chicago  ...  2018    9512999\n27   Vegas Golden Knights               Las Vegas  ...  2018    2155664\n28          Anaheim Ducks             Los Angeles  ...  2018   13310447\n29        San Jose Sharks  San Francisco Bay Area  ...  2018    6657982\n30      Los Angeles Kings             Los Angeles  ...  2018   13310447\n31         Calgary Flames                 Calgary  ...  2018    1392609\n32        Edmonton Oilers                Edmonton  ...  2018    1321426\n33      Vancouver Canucks               Vancouver  ...  2018    2463431\n34        Arizona Coyotes                 Phoenix  ...  2018    4661537\n\n[31 rows x 7 columns]\n         Metropolitan area Population (2016 est.)[8]                     NHL\n0            New York City                  20153634  RangersIslandersDevils\n1              Los Angeles                  13310447              KingsDucks\n2   San Francisco Bay Area                   6657982                  Sharks\n3                  Chicago                   9512999              Blackhawks\n4        Dallas–Fort Worth                   7233323                   Stars\n5         Washington, D.C.                   6131977                Capitals\n6             Philadelphia                   6070500                  Flyers\n7                   Boston                   4794447                  Bruins\n8   Minneapolis–Saint Paul                   3551036                    Wild\n9                   Denver                   2853077               Avalanche\n10   Miami–Fort Lauderdale                   6066387                Panthers\n11                 Phoenix                   4661537                 Coyotes\n12                 Detroit                   4297617               Red Wings\n13                 Toronto                   5928040             Maple Leafs\n14                 Houston                   6772470                        \n15                 Atlanta                   5789700                        \n16          Tampa Bay Area                   3032171               Lightning\n17              Pittsburgh                   2342299                Penguins\n18               Cleveland                   2055612                        \n19                 Seattle                   3798902                        \n20              Cincinnati                   2165139                        \n21             Kansas City                   2104509                        \n22               St. Louis                   2807002                   Blues\n23               Baltimore                   2798886                        \n24               Charlotte                   2474314                        \n25            Indianapolis                   2004230                        \n26               Nashville                   1865298               Predators\n27               Milwaukee                   1572482                        \n28             New Orleans                   1268883                        \n29                 Buffalo                   1132804                  Sabres\n30                Montreal                   4098927               Canadiens\n31               Vancouver                   2463431                 Canucks\n32                 Orlando                   2441257                        \n33                Portland                   2424955                        \n34                Columbus                   2041520            Blue Jackets\n35                 Calgary                   1392609                  Flames\n36                  Ottawa                   1323783                Senators\n37                Edmonton                   1321426                  Oilers\n38          Salt Lake City                   1186187                        \n39                Winnipeg                    778489                    Jets\n40               San Diego                   3317749                        \n41             San Antonio                   2429609                        \n42              Sacramento                   2296418                        \n43               Las Vegas                   2155664          Golden Knights\n44            Jacksonville                   1478212                        \n45           Oklahoma City                   1373211                        \n46                 Memphis                   1342842                        \n47                 Raleigh                   1302946              Hurricanes\n48               Green Bay                    318236                        \n49                Hamilton                    747545                        \n50                  Regina                    236481                        \n"
     ]
    }
   ],
   "source": [
    "import pandas as pd\n",
    "import numpy as np\n",
    "import scipy.stats as stats\n",
    "import re\n",
    "\n",
    "\n",
    "nhl_df=pd.read_csv(\"assests/nhl.csv\")\n",
    "cities=pd.read_html(\"assests/wikipedia_data.html\")[1]\n",
    "cities=cities.iloc[:-1,[0,3,5,6,7,8]]\n",
    "\n",
    "cities = cities.replace('—', '')\n",
    "cities['NHL'] = cities['NHL'].str.replace('\\[.*]', '')\n",
    "\n",
    "nhl_df['team']= nhl_df['team'].str.replace('\\*','')\n",
    "metroCityInOrder =[]\n",
    "for x in nhl_df['team']:\n",
    "    r='none'\n",
    "    if \"Division\" in x:\n",
    "        metroCityInOrder.append(\"\")\n",
    "    for key, value in metroRegionNHL.items():\n",
    "        if x in value:\n",
    "            metroCityInOrder.append(key)\n",
    "            r=key\n",
    "    # print(x, r)        \n",
    "\n",
    "# print(\"this is metro city in order\", len(metroCityInOrder), metroCityInOrder)\n",
    "\n",
    "\n",
    "nhl_df['metropolitan area'] = metroCityInOrder\n",
    "\n",
    "# pd.DataFrame([np.random.random(100) for x in range(100)])\n",
    "\n",
    "# print(cities['NHL'])\n",
    "word ='Division'\n",
    "# print(nhl_df[['team', 'metropolitan area','W','L','year']])\n",
    "nhl_df_2018 = nhl_df.loc[nhl_df['year'] == 2018] \n",
    "nhl_df_2018 = nhl_df_2018.loc[~nhl_df_2018['team'].str.contains(word, na=False)]\n",
    "population_by_region = cities.loc[cities['Metropolitan area'].isin(nhl_df_2018['metropolitan area']),'Population (2016 est.)[8]'].astype(int)\n",
    "\n",
    "populationInOrderForNHL=[]\n",
    "for x in nhl_df_2018['metropolitan area']:\n",
    "    for y in range(len(cities['Metropolitan area'])):\n",
    "        if x == cities['Metropolitan area'].iloc[y]:\n",
    "            populationInOrderForNHL.append(cities['Population (2016 est.)[8]'].iloc[y])\n",
    "nhl_df_2018['population'] = populationInOrderForNHL\n",
    "# nhl_df_2018['population'] = cities.loc[cities['Metropolitan area'] == nhl_df_2018['metropolitan area'],'Population (2016 est.)[8]']\n",
    "nhl_df_2018['win-loss-ratio'] = nhl_df_2018['W'].astype(int)/(nhl_df_2018['W'].astype(int)+nhl_df_2018['L'].astype(int))\n",
    "\n",
    "\n",
    "\n",
    "\n",
    "\n",
    "print(\"now the df\")\n",
    "# print(nhl_df_2018)\n",
    "print(nhl_df_2018[['team', 'metropolitan area','W','L','win-loss-ratio','year', 'population']])\n",
    "\n",
    "print(cities[['Metropolitan area','Population (2016 est.)[8]', 'NHL']])\n",
    "# print(cities['Metropolitan area'])"
   ]
  },
  {
   "cell_type": "code",
   "execution_count": 11,
   "metadata": {},
   "outputs": [
    {
     "output_type": "stream",
     "name": "stdout",
     "text": [
      "dict_values([['New York Rangers', 'New York Islanders', 'New Jersey Devils'], ['Los Angeles Kings', 'Anaheim Ducks'], 'San Jose Sharks', 'Chicago Blackhawks', 'Dallas Stars', 'Washington Capitals', 'Philadelphia Flyers', 'Boston Bruins', 'Minnesota Wild', 'Colorado Avalanche', 'Florida Panthers', ['Arizona Coyotes', 'Phoenix Coyotes'], 'Detroit Red Wings', 'Toronto Maple Leafs', '', '', 'Tampa Bay Lightning', 'Pittsburgh Penguins', '', '', '', '', 'St. Louis Blues', '', '', '', 'Nashville Predators', '', '', 'Buffalo Sabres', 'Montreal Canadiens', 'Vancouver Canucks', '', '', 'Columbus Blue Jackets', 'Calgary Flames', 'Ottawa Senators', 'Edmonton Oilers', '', 'Winnipeg Jets', '', '', '', 'Vegas Golden Knights', '', '', '', 'Carolina Hurricanes', '', '', ''])\n"
     ]
    }
   ],
   "source": []
  },
  {
   "cell_type": "code",
   "execution_count": 16,
   "metadata": {},
   "outputs": [
    {
     "output_type": "stream",
     "name": "stdout",
     "text": [
      "True\nTrue\n\nNew York City New York City 0.6027397260273972\nNew York City New York City 0.4861111111111111\nNew York City New York City 0.4657534246575342\nNew York City [0.6027397260273972, 0.4861111111111111, 0.4657534246575342] 0.5182014205986808\nLos Angeles Los Angeles 0.6376811594202898\nLos Angeles Los Angeles 0.6081081081081081\nLos Angeles [0.6376811594202898, 0.6081081081081081] 0.622894633764199\nSan Francisco Bay Area San Francisco Bay Area 0.625\nSan Francisco Bay Area [0.625] 0.625\nChicago Chicago 0.4583333333333333\nChicago [0.4583333333333333] 0.4583333333333333\nDallas–Fort Worth Dallas–Fort Worth 0.5675675675675675\nDallas–Fort Worth [0.5675675675675675] 0.5675675675675675\nWashington, D.C. Washington, D.C. 0.6533333333333333\nWashington, D.C. [0.6533333333333333] 0.6533333333333333\nPhiladelphia Philadelphia 0.6176470588235294\nPhiladelphia [0.6176470588235294] 0.6176470588235294\nBoston Boston 0.7142857142857143\nBoston [0.7142857142857143] 0.7142857142857143\nMinneapolis–Saint Paul Minneapolis–Saint Paul 0.6338028169014085\nMinneapolis–Saint Paul [0.6338028169014085] 0.6338028169014085\nDenver Denver 0.589041095890411\nDenver [0.589041095890411] 0.589041095890411\nMiami–Fort Lauderdale Miami–Fort Lauderdale 0.5945945945945946\nMiami–Fort Lauderdale [0.5945945945945946] 0.5945945945945946\nPhoenix Phoenix 0.4142857142857143\nPhoenix [0.4142857142857143] 0.4142857142857143\nDetroit Detroit 0.43478260869565216\nDetroit [0.43478260869565216] 0.43478260869565216\nToronto Toronto 0.6533333333333333\nToronto [0.6533333333333333] 0.6533333333333333\n\n\nTampa Bay Area Tampa Bay Area 0.7012987012987013\nTampa Bay Area [0.7012987012987013] 0.7012987012987013\nPittsburgh Pittsburgh 0.618421052631579\nPittsburgh [0.618421052631579] 0.618421052631579\n\n\n\n\nSt. Louis St. Louis 0.5789473684210527\nSt. Louis [0.5789473684210527] 0.5789473684210527\n\n\n\nNashville Nashville 0.7464788732394366\nNashville [0.7464788732394366] 0.7464788732394366\n\n\nBuffalo Buffalo 0.35714285714285715\nBuffalo [0.35714285714285715] 0.35714285714285715\nMontreal Montreal 0.42028985507246375\nMontreal [0.42028985507246375] 0.42028985507246375\nVancouver Vancouver 0.43661971830985913\nVancouver [0.43661971830985913] 0.43661971830985913\n\n\nColumbus Columbus 0.6\nColumbus [0.6] 0.6\nCalgary Calgary 0.5138888888888888\nCalgary [0.5138888888888888] 0.5138888888888888\nOttawa Ottawa 0.39436619718309857\nOttawa [0.39436619718309857] 0.39436619718309857\nEdmonton Edmonton 0.47368421052631576\nEdmonton [0.47368421052631576] 0.47368421052631576\n\nWinnipeg Winnipeg 0.7222222222222222\nWinnipeg [0.7222222222222222] 0.7222222222222222\n\n\n\nLas Vegas Las Vegas 0.68\nLas Vegas [0.68] 0.68\n\n\n\nRaleigh Raleigh 0.5070422535211268\nRaleigh [0.5070422535211268] 0.5070422535211268\n\n\n\n[0.5182014205986808, 0.622894633764199, 0.625, 0.4583333333333333, 0.5675675675675675, 0.6533333333333333, 0.6176470588235294, 0.7142857142857143, 0.6338028169014085, 0.589041095890411, 0.5945945945945946, 0.4142857142857143, 0.43478260869565216, 0.6533333333333333, 0.7012987012987013, 0.618421052631579, 0.5789473684210527, 0.7464788732394366, 0.35714285714285715, 0.42028985507246375, 0.43661971830985913, 0.6, 0.5138888888888888, 0.39436619718309857, 0.47368421052631576, 0.7222222222222222, 0.68, 0.5070422535211268]\n28\n"
     ]
    }
   ],
   "source": [
    "# print(nhl_df_2018['win-loss-ratio'].iloc[0].astype(float))\n",
    "# print(nhl_df_2018['metropolitan area'].iloc[0]==cities['Metropolitan area'])\n",
    "print(len(cities['NHL'].iloc[15])<1)\n",
    "print(cities['NHL'].iloc[15] == '')\n",
    "print(cities['NHL'].iloc[15])\n",
    "\n",
    "\n",
    "\n",
    "win_loss_by_region =[]\n",
    "for x in range(len(cities['Metropolitan area'])):\n",
    "    if cities['NHL'].iloc[x]== '':\n",
    "        print(cities['NHL'].iloc[x])\n",
    "        continue\n",
    "    cityValues=[]\n",
    "    for y in range(len(nhl_df_2018['metropolitan area'])):\n",
    "        if cities['Metropolitan area'].iloc[x] == nhl_df_2018['metropolitan area'].iloc[y]:\n",
    "            cityValues.append(nhl_df_2018['win-loss-ratio'].iloc[y].astype(float))\n",
    "            print(cities['Metropolitan area'].iloc[x], nhl_df_2018['metropolitan area'].iloc[y], nhl_df_2018['win-loss-ratio'].iloc[y].astype(float))\n",
    "    print(cities['Metropolitan area'].iloc[x], cityValues,sum(cityValues)/len(cityValues) )\n",
    "    win_loss_by_region.append(sum(cityValues)/len(cityValues))\n",
    "print(win_loss_by_region)\n",
    "print(len(win_loss_by_region))"
   ]
  },
  {
   "cell_type": "code",
   "execution_count": 17,
   "metadata": {
    "deletable": false,
    "nbgrader": {
     "checksum": "1cac4803b02502929f5b1612d48db2b5",
     "grade": false,
     "grade_id": "cell-69b16e4386e58030",
     "locked": false,
     "schema_version": 1,
     "solution": true
    },
    "tags": []
   },
   "outputs": [],
   "source": [
    "# df.loc[df['B'] == 3, 'A']\n",
    "\n",
    "# print(len(population_by_region))\n",
    "# print(population_by_region)\n",
    "\n",
    "\n",
    "def nhl_correlation(): \n",
    "    # YOUR CODE HERE\n",
    "    # raise NotImplementedError()\n",
    "    \n",
    "    population_by_region  # pass in metropolitan area population from cities\n",
    "    win_loss_by_region  # pass in win/loss ratio from nhl_df in the same order as cities[\"Metropolitan area\"]\n",
    "\n",
    "    assert len(population_by_region) == len(win_loss_by_region), \"Q1: Your lists must be the same length\"\n",
    "    assert len(population_by_region) == 28, \"Q1: There should be 28 teams being analysed for NHL\"\n",
    "    \n",
    "    return stats.pearsonr(population_by_region, win_loss_by_region)"
   ]
  },
  {
   "cell_type": "code",
   "execution_count": 18,
   "metadata": {
    "deletable": false,
    "editable": false,
    "nbgrader": {
     "checksum": "52a581df513c71153e105b93764cda4b",
     "grade": true,
     "grade_id": "cell-ebe0b2dfe1067e63",
     "locked": true,
     "points": 20,
     "schema_version": 1,
     "solution": false
    }
   },
   "outputs": [
    {
     "output_type": "execute_result",
     "data": {
      "text/plain": [
       "(0.012486162921209909, 0.9497182859911791)"
      ]
     },
     "metadata": {},
     "execution_count": 18
    }
   ],
   "source": [
    "nhl_correlation()"
   ]
  },
  {
   "cell_type": "markdown",
   "metadata": {
    "deletable": false,
    "editable": false,
    "nbgrader": {
     "checksum": "988912cae4968d81473f46d783e79c16",
     "grade": false,
     "grade_id": "cell-cb964e690298b71d",
     "locked": true,
     "schema_version": 1,
     "solution": false
    }
   },
   "source": [
    "## Question 2\n",
    "For this question, calculate the win/loss ratio's correlation with the population of the city it is in for the **NBA** using **2018** data."
   ]
  },
  {
   "cell_type": "code",
   "execution_count": 19,
   "metadata": {},
   "outputs": [
    {
     "output_type": "stream",
     "name": "stdout",
     "text": [
      "dict_values([['Knicks', 'Nets'], ['Lakers', 'Clippers'], 'Warriors', 'Bulls', 'Mavericks', 'Wizards', '76ers', 'Celtics', 'Timberwolves', 'Nuggets', 'Heat', ['Suns'], 'Pistons', 'Raptors', 'Rockets', 'Hawks', '', '', 'Caveliers', '', '', '', '', '', 'Hornets', 'Pacers', '', 'Bucks', 'Pelicans', '', '', '', 'Magic', 'Trail Blazers', '', '', '', '', 'Jazz', '', '', 'Spurs', 'Kings', '', '', 'Thunder', '', 'Grizzlies', '', '', ''])\n"
     ]
    }
   ],
   "source": [
    "metroRegionNBA = {\n",
    "\n",
    "'New York City': ['Knicks', 'Nets'],\n",
    "'Los Angeles' : ['Lakers','Clippers'],\n",
    "'San Francisco Bay Area':'Warriors',\n",
    "'Chicago': 'Bulls',\n",
    "'Dallas–Fort Worth': 'Mavericks',\n",
    "'Washington, D.C.': 'Wizards',\n",
    "'Philadelphia': '76ers',\n",
    "'Boston': 'Celtics',\n",
    "'Minneapolis–Saint Paul': 'Timberwolves',\n",
    "'Denver' : 'Nuggets',\n",
    "'Miami–Fort Lauderdale' :'Heat',\n",
    "'Phoenix':['Suns'],\n",
    "'Detroit' : 'Pistons',\n",
    "'Toronto' : 'Raptors',\n",
    "'Houston' : 'Rockets',\n",
    "'Atlanta' : 'Hawks',\n",
    "'Tampa Bay Area' : '',\n",
    "'Pittsburgh' : '',\n",
    "'Cleveland' : 'Caveliers',\n",
    "'Seattle' : '',\n",
    "'Cincinnati' : '',\n",
    "'Kansas City' : '',\n",
    "'St. Louis' : '',\n",
    "'Baltimore' : '',\n",
    "'Charlotte' : 'Hornets',\n",
    "'Indianapolis' : 'Pacers',\n",
    "'Nashville' : '',\n",
    "'Milwaukee' : 'Bucks',\n",
    "'New Orleans' : 'Pelicans',\n",
    "'Buffalo' : '',\n",
    "'Montreal' : '',\n",
    "'Vancouver' : '',\n",
    "'Orlando' : 'Magic',\n",
    "'Portland' : 'Trail Blazers',\n",
    "'Columbus' : '',\n",
    "'Calgary' : '',\n",
    "'Ottawa' : '',\n",
    "'Edmonton' : '',\n",
    "'Salt Lake City' : 'Jazz',\n",
    "'Winnipeg' : '',\n",
    "'San Diego' : '',\n",
    "'San Antonio' : 'Spurs',\n",
    "'Sacramento' : 'Kings',\n",
    "'Las Vegas' : '', \n",
    "'Jacksonville' : '',\n",
    "'Oklahoma City' : 'Thunder',\n",
    "'Memphis' : '',\n",
    "'Raleigh' : 'Grizzlies', \n",
    "'Green Bay' : '',\n",
    "'Hamilton' : '',\n",
    "'Regina' : ''\n",
    "}\n",
    "\n",
    "print(metroRegionNBA.values())"
   ]
  },
  {
   "cell_type": "code",
   "execution_count": 35,
   "metadata": {
    "deletable": false,
    "nbgrader": {
     "checksum": "9394222aafc8ccab0a228098ba0d6010",
     "grade": false,
     "grade_id": "cell-5a5f21279e3d3572",
     "locked": false,
     "schema_version": 1,
     "solution": true
    },
    "tags": [
     "outputPrepend"
    ]
   },
   "outputs": [
    {
     "output_type": "stream",
     "name": "stdout",
     "text": [
      " D.C.', 'Philadelphia', 'Boston', 'Minneapolis–Saint Paul', 'Denver', 'Miami–Fort Lauderdale', 'Detroit', 'Toronto', 'Houston', 'Atlanta', 'Tampa Bay Area', 'Pittsburgh', 'Cleveland', 'Seattle', 'Cincinnati', 'Kansas City', 'St. Louis', 'Baltimore', 'Charlotte', 'Indianapolis', 'Nashville', 'Milwaukee', 'New Orleans', 'Buffalo', 'Montreal', 'Vancouver', 'Orlando', 'Portland', 'Columbus', 'Calgary', 'Ottawa', 'Edmonton', 'Salt Lake City', 'Winnipeg', 'San Diego', 'San Antonio', 'Sacramento', 'Las Vegas', 'Jacksonville', 'Oklahoma City', 'Memphis', 'Raleigh', 'Green Bay', 'Hamilton', 'Regina', 'San Francisco Bay Area', 'Chicago', 'Dallas–Fort Worth', 'Washington, D.C.', 'Philadelphia', 'Boston', 'Minneapolis–Saint Paul', 'Denver', 'Miami–Fort Lauderdale', 'Detroit', 'Toronto', 'Houston', 'Atlanta', 'Tampa Bay Area', 'Pittsburgh', 'Cleveland', 'Seattle', 'Cincinnati', 'Kansas City', 'St. Louis', 'Baltimore', 'Charlotte', 'Indianapolis', 'Nashville', 'Milwaukee', 'New Orleans', 'Buffalo', 'Montreal', 'Vancouver', 'Orlando', 'Portland', 'Columbus', 'Calgary', 'Ottawa', 'Edmonton', 'Salt Lake City', 'Winnipeg', 'San Diego', 'San Antonio', 'Sacramento', 'Las Vegas', 'Jacksonville', 'Oklahoma City', 'Memphis', 'Raleigh', 'Green Bay', 'Hamilton', 'Regina', 'San Francisco Bay Area', 'Chicago', 'Dallas–Fort Worth', 'Washington, D.C.', 'Philadelphia', 'Boston', 'Minneapolis–Saint Paul', 'Denver', 'Miami–Fort Lauderdale', 'Detroit', 'Toronto', 'Houston', 'Atlanta', 'Tampa Bay Area', 'Pittsburgh', 'Cleveland', 'Seattle', 'Cincinnati', 'Kansas City', 'St. Louis', 'Baltimore', 'Charlotte', 'Indianapolis', 'Nashville', 'Milwaukee', 'New Orleans', 'Buffalo', 'Montreal', 'Vancouver', 'Orlando', 'Portland', 'Columbus', 'Calgary', 'Ottawa', 'Edmonton', 'Salt Lake City', 'Winnipeg', 'San Diego', 'San Antonio', 'Sacramento', 'Las Vegas', 'Jacksonville', 'Oklahoma City', 'Memphis', 'Raleigh', 'Green Bay', 'Hamilton', 'Regina', 'San Francisco Bay Area', 'Chicago', 'Dallas–Fort Worth', 'Washington, D.C.', 'Philadelphia', 'Boston', 'Minneapolis–Saint Paul', 'Denver', 'Miami–Fort Lauderdale', 'Detroit', 'Toronto', 'Houston', 'Atlanta', 'Tampa Bay Area', 'Pittsburgh', 'Cleveland', 'Seattle', 'Cincinnati', 'Kansas City', 'St. Louis', 'Baltimore', 'Charlotte', 'Indianapolis', 'Nashville', 'Milwaukee', 'New Orleans', 'Buffalo', 'Montreal', 'Vancouver', 'Orlando', 'Portland', 'Columbus', 'Calgary', 'Ottawa', 'Edmonton', 'Salt Lake City', 'Winnipeg', 'San Diego', 'San Antonio', 'Sacramento', 'Las Vegas', 'Jacksonville', 'Oklahoma City', 'Memphis', 'Raleigh', 'Green Bay', 'Hamilton', 'Regina', 'San Francisco Bay Area', 'Chicago', 'Dallas–Fort Worth', 'Washington, D.C.', 'Philadelphia', 'Boston', 'Minneapolis–Saint Paul', 'Denver', 'Miami–Fort Lauderdale', 'Detroit', 'Toronto', 'Houston', 'Atlanta', 'Tampa Bay Area', 'Pittsburgh', 'Cleveland', 'Seattle', 'Cincinnati', 'Kansas City', 'St. Louis', 'Baltimore', 'Charlotte', 'Indianapolis', 'Nashville', 'Milwaukee', 'New Orleans', 'Buffalo', 'Montreal', 'Vancouver', 'Orlando', 'Portland', 'Columbus', 'Calgary', 'Ottawa', 'Edmonton', 'Salt Lake City', 'Winnipeg', 'San Diego', 'San Antonio', 'Sacramento', 'Las Vegas', 'Jacksonville', 'Oklahoma City', 'Memphis', 'Raleigh', 'Green Bay', 'Hamilton', 'Regina', 'San Francisco Bay Area', 'Chicago', 'Dallas–Fort Worth', 'Washington, D.C.', 'Philadelphia', 'Boston', 'Minneapolis–Saint Paul', 'Denver', 'Miami–Fort Lauderdale', 'Detroit', 'Toronto', 'Houston', 'Atlanta', 'Tampa Bay Area', 'Pittsburgh', 'Cleveland', 'Seattle', 'Cincinnati', 'Kansas City', 'St. Louis', 'Baltimore', 'Charlotte', 'Indianapolis', 'Nashville', 'Milwaukee', 'New Orleans', 'Buffalo', 'Montreal', 'Vancouver', 'Orlando', 'Portland', 'Columbus', 'Calgary', 'Ottawa', 'Edmonton', 'Salt Lake City', 'Winnipeg', 'San Diego', 'San Antonio', 'Sacramento', 'Las Vegas', 'Jacksonville', 'Oklahoma City', 'Memphis', 'Raleigh', 'Green Bay', 'Hamilton', 'Regina', 'San Francisco Bay Area', 'Chicago', 'Dallas–Fort Worth', 'Washington, D.C.', 'Philadelphia', 'Boston', 'Minneapolis–Saint Paul', 'Denver', 'Miami–Fort Lauderdale', 'Detroit', 'Toronto', 'Houston', 'Atlanta', 'Tampa Bay Area', 'Pittsburgh', 'Cleveland', 'Seattle', 'Cincinnati', 'Kansas City', 'St. Louis', 'Baltimore', 'Charlotte', 'Indianapolis', 'Nashville', 'Milwaukee', 'New Orleans', 'Buffalo', 'Montreal', 'Vancouver', 'Orlando', 'Portland', 'Columbus', 'Calgary', 'Ottawa', 'Edmonton', 'Salt Lake City', 'Winnipeg', 'San Diego', 'San Antonio', 'Sacramento', 'Las Vegas', 'Jacksonville', 'Oklahoma City', 'Memphis', 'Raleigh', 'Green Bay', 'Hamilton', 'Regina', 'San Francisco Bay Area', 'Chicago', 'Dallas–Fort Worth', 'Washington, D.C.', 'Philadelphia', 'Boston', 'Minneapolis–Saint Paul', 'Denver', 'Miami–Fort Lauderdale', 'Detroit', 'Toronto', 'Houston', 'Atlanta', 'Tampa Bay Area', 'Pittsburgh', 'Cleveland', 'Seattle', 'Cincinnati', 'Kansas City', 'St. Louis', 'Baltimore', 'Charlotte', 'Indianapolis', 'Nashville', 'Milwaukee', 'New Orleans', 'Buffalo', 'Montreal', 'Vancouver', 'Orlando', 'Portland', 'Columbus', 'Calgary', 'Ottawa', 'Edmonton', 'Salt Lake City', 'Winnipeg', 'San Diego', 'San Antonio', 'Sacramento', 'Las Vegas', 'Jacksonville', 'Oklahoma City', 'Memphis', 'Raleigh', 'Green Bay', 'Hamilton', 'Regina', 'San Francisco Bay Area', 'Chicago', 'Dallas–Fort Worth', 'Washington, D.C.', 'Philadelphia', 'Boston', 'Minneapolis–Saint Paul', 'Denver', 'Miami–Fort Lauderdale', 'Detroit', 'Toronto', 'Houston', 'Atlanta', 'Tampa Bay Area', 'Pittsburgh', 'Cleveland', 'Seattle', 'Cincinnati', 'Kansas City', 'St. Louis', 'Baltimore', 'Charlotte', 'Indianapolis', 'Nashville', 'Milwaukee', 'New Orleans', 'Buffalo', 'Montreal', 'Vancouver', 'Orlando', 'Portland', 'Columbus', 'Calgary', 'Ottawa', 'Edmonton', 'Salt Lake City', 'Winnipeg', 'San Diego', 'San Antonio', 'Sacramento', 'Las Vegas', 'Jacksonville', 'Oklahoma City', 'Memphis', 'Raleigh', 'Green Bay', 'Hamilton', 'Regina', 'San Francisco Bay Area', 'Chicago', 'Dallas–Fort Worth', 'Washington, D.C.', 'Philadelphia', 'Boston', 'Minneapolis–Saint Paul', 'Denver', 'Miami–Fort Lauderdale', 'Detroit', 'Toronto', 'Houston', 'Atlanta', 'Tampa Bay Area', 'Pittsburgh', 'Cleveland', 'Seattle', 'Cincinnati', 'Kansas City', 'St. Louis', 'Baltimore', 'Charlotte', 'Indianapolis', 'Nashville', 'Milwaukee', 'New Orleans', 'Buffalo', 'Montreal', 'Vancouver', 'Orlando', 'Portland', 'Columbus', 'Calgary', 'Ottawa', 'Edmonton', 'Salt Lake City', 'Winnipeg', 'San Diego', 'San Antonio', 'Sacramento', 'Las Vegas', 'Jacksonville', 'Oklahoma City', 'Memphis', 'Raleigh', 'Green Bay', 'Hamilton', 'Regina', 'San Francisco Bay Area', 'Chicago', 'Dallas–Fort Worth', 'Washington, D.C.', 'Philadelphia', 'Boston', 'Minneapolis–Saint Paul', 'Denver', 'Miami–Fort Lauderdale', 'Detroit', 'Toronto', 'Houston', 'Atlanta', 'Tampa Bay Area', 'Pittsburgh', 'Cleveland', 'Seattle', 'Cincinnati', 'Kansas City', 'St. Louis', 'Baltimore', 'Charlotte', 'Indianapolis', 'Nashville', 'Milwaukee', 'New Orleans', 'Buffalo', 'Montreal', 'Vancouver', 'Orlando', 'Portland', 'Columbus', 'Calgary', 'Ottawa', 'Edmonton', 'Salt Lake City', 'Winnipeg', 'San Diego', 'San Antonio', 'Sacramento', 'Las Vegas', 'Jacksonville', 'Oklahoma City', 'Memphis', 'Raleigh', 'Green Bay', 'Hamilton', 'Regina', 'San Francisco Bay Area', 'Chicago', 'Dallas–Fort Worth', 'Washington, D.C.', 'Philadelphia', 'Boston', 'Minneapolis–Saint Paul', 'Denver', 'Miami–Fort Lauderdale', 'Detroit', 'Toronto', 'Houston', 'Atlanta', 'Tampa Bay Area', 'Pittsburgh', 'Cleveland', 'Seattle', 'Cincinnati', 'Kansas City', 'St. Louis', 'Baltimore', 'Charlotte', 'Indianapolis', 'Nashville', 'Milwaukee', 'New Orleans', 'Buffalo', 'Montreal', 'Vancouver', 'Orlando', 'Portland', 'Columbus', 'Calgary', 'Ottawa', 'Edmonton', 'Salt Lake City', 'Winnipeg', 'San Diego', 'San Antonio', 'Sacramento', 'Las Vegas', 'Jacksonville', 'Oklahoma City', 'Memphis', 'Raleigh', 'Green Bay', 'Hamilton', 'Regina', 'San Francisco Bay Area', 'Chicago', 'Dallas–Fort Worth', 'Washington, D.C.', 'Philadelphia', 'Boston', 'Minneapolis–Saint Paul', 'Denver', 'Miami–Fort Lauderdale', 'Detroit', 'Toronto', 'Houston', 'Atlanta', 'Tampa Bay Area', 'Pittsburgh', 'Cleveland', 'Seattle', 'Cincinnati', 'Kansas City', 'St. Louis', 'Baltimore', 'Charlotte', 'Indianapolis', 'Nashville', 'Milwaukee', 'New Orleans', 'Buffalo', 'Montreal', 'Vancouver', 'Orlando', 'Portland', 'Columbus', 'Calgary', 'Ottawa', 'Edmonton', 'Salt Lake City', 'Winnipeg', 'San Diego', 'San Antonio', 'Sacramento', 'Las Vegas', 'Jacksonville', 'Oklahoma City', 'Memphis', 'Raleigh', 'Green Bay', 'Hamilton', 'Regina', 'San Francisco Bay Area', 'Chicago', 'Dallas–Fort Worth', 'Washington, D.C.', 'Philadelphia', 'Boston', 'Minneapolis–Saint Paul', 'Denver', 'Miami–Fort Lauderdale', 'Detroit', 'Toronto', 'Houston', 'Atlanta', 'Tampa Bay Area', 'Pittsburgh', 'Cleveland', 'Seattle', 'Cincinnati', 'Kansas City', 'St. Louis', 'Baltimore', 'Charlotte', 'Indianapolis', 'Nashville', 'Milwaukee', 'New Orleans', 'Buffalo', 'Montreal', 'Vancouver', 'Orlando', 'Portland', 'Columbus', 'Calgary', 'Ottawa', 'Edmonton', 'Salt Lake City', 'Winnipeg', 'San Diego', 'San Antonio', 'Sacramento', 'Las Vegas', 'Jacksonville', 'Oklahoma City', 'Memphis', 'Raleigh', 'Green Bay', 'Hamilton', 'Regina', 'San Francisco Bay Area', 'Chicago', 'Dallas–Fort Worth', 'Washington, D.C.', 'Philadelphia', 'Boston', 'Minneapolis–Saint Paul', 'Denver', 'Miami–Fort Lauderdale', 'Detroit', 'Toronto', 'Houston', 'Atlanta', 'Tampa Bay Area', 'Pittsburgh', 'Cleveland', 'Seattle', 'Cincinnati', 'Kansas City', 'St. Louis', 'Baltimore', 'Charlotte', 'Indianapolis', 'Nashville', 'Milwaukee', 'New Orleans', 'Buffalo', 'Montreal', 'Vancouver', 'Orlando', 'Portland', 'Columbus', 'Calgary', 'Ottawa', 'Edmonton', 'Salt Lake City', 'Winnipeg', 'San Diego', 'San Antonio', 'Sacramento', 'Las Vegas', 'Jacksonville', 'Oklahoma City', 'Memphis', 'Raleigh', 'Green Bay', 'Hamilton', 'Regina', 'San Francisco Bay Area', 'Chicago', 'Dallas–Fort Worth', 'Washington, D.C.', 'Philadelphia', 'Boston', 'Minneapolis–Saint Paul', 'Denver', 'Miami–Fort Lauderdale', 'Detroit', 'Toronto', 'Houston', 'Atlanta', 'Tampa Bay Area', 'Pittsburgh', 'Cleveland', 'Seattle', 'Cincinnati', 'Kansas City', 'St. Louis', 'Baltimore', 'Charlotte', 'Indianapolis', 'Nashville', 'Milwaukee', 'New Orleans', 'Buffalo', 'Montreal', 'Vancouver', 'Orlando', 'Portland', 'Columbus', 'Calgary', 'Ottawa', 'Edmonton', 'Salt Lake City', 'Winnipeg', 'San Diego', 'San Antonio', 'Sacramento', 'Las Vegas', 'Jacksonville', 'Oklahoma City', 'Memphis', 'Raleigh', 'Green Bay', 'Hamilton', 'Regina', 'San Francisco Bay Area', 'Chicago', 'Dallas–Fort Worth', 'Washington, D.C.', 'Philadelphia', 'Boston', 'Minneapolis–Saint Paul', 'Denver', 'Miami–Fort Lauderdale', 'Detroit', 'Toronto', 'Houston', 'Atlanta', 'Tampa Bay Area', 'Pittsburgh', 'Cleveland', 'Seattle', 'Cincinnati', 'Kansas City', 'St. Louis', 'Baltimore', 'Charlotte', 'Indianapolis', 'Nashville', 'Milwaukee', 'New Orleans', 'Buffalo', 'Montreal', 'Vancouver', 'Orlando', 'Portland', 'Columbus', 'Calgary', 'Ottawa', 'Edmonton', 'Salt Lake City', 'Winnipeg', 'San Diego', 'San Antonio', 'Sacramento', 'Las Vegas', 'Jacksonville', 'Oklahoma City', 'Memphis', 'Raleigh', 'Green Bay', 'Hamilton', 'Regina', 'San Francisco Bay Area', 'Chicago', 'Dallas–Fort Worth', 'Washington, D.C.', 'Philadelphia', 'Boston', 'Minneapolis–Saint Paul', 'Denver', 'Miami–Fort Lauderdale', 'Detroit', 'Toronto', 'Houston', 'Atlanta', 'Tampa Bay Area', 'Pittsburgh', 'Cleveland', 'Seattle', 'Cincinnati', 'Kansas City', 'St. Louis', 'Baltimore', 'Charlotte', 'Indianapolis', 'Nashville', 'Milwaukee', 'New Orleans', 'Buffalo', 'Montreal', 'Vancouver', 'Orlando', 'Portland', 'Columbus', 'Calgary', 'Ottawa', 'Edmonton', 'Salt Lake City', 'Winnipeg', 'San Diego', 'San Antonio', 'Sacramento', 'Las Vegas', 'Jacksonville', 'Oklahoma City', 'Memphis', 'Raleigh', 'Green Bay', 'Hamilton', 'Regina', 'San Francisco Bay Area', 'Chicago', 'Dallas–Fort Worth', 'Washington, D.C.', 'Philadelphia', 'Boston', 'Minneapolis–Saint Paul', 'Denver', 'Miami–Fort Lauderdale', 'Detroit', 'Toronto', 'Houston', 'Atlanta', 'Tampa Bay Area', 'Pittsburgh', 'Cleveland', 'Seattle', 'Cincinnati', 'Kansas City', 'St. Louis', 'Baltimore', 'Charlotte', 'Indianapolis', 'Nashville', 'Milwaukee', 'New Orleans', 'Buffalo', 'Montreal', 'Vancouver', 'Orlando', 'Portland', 'Columbus', 'Calgary', 'Ottawa', 'Edmonton', 'Salt Lake City', 'Winnipeg', 'San Diego', 'San Antonio', 'Sacramento', 'Las Vegas', 'Jacksonville', 'Oklahoma City', 'Memphis', 'Raleigh', 'Green Bay', 'Hamilton', 'Regina', 'San Francisco Bay Area', 'Chicago', 'Dallas–Fort Worth', 'Washington, D.C.', 'Philadelphia', 'Boston', 'Minneapolis–Saint Paul', 'Denver', 'Miami–Fort Lauderdale', 'Detroit', 'Toronto', 'Houston', 'Atlanta', 'Tampa Bay Area', 'Pittsburgh', 'Cleveland', 'Seattle', 'Cincinnati', 'Kansas City', 'St. Louis', 'Baltimore', 'Charlotte', 'Indianapolis', 'Nashville', 'Milwaukee', 'New Orleans', 'Buffalo', 'Montreal', 'Vancouver', 'Orlando', 'Portland', 'Columbus', 'Calgary', 'Ottawa', 'Edmonton', 'Salt Lake City', 'Winnipeg', 'San Diego', 'San Antonio', 'Sacramento', 'Las Vegas', 'Jacksonville', 'Oklahoma City', 'Memphis', 'Raleigh', 'Green Bay', 'Hamilton', 'Regina', 'San Francisco Bay Area', 'Chicago', 'Dallas–Fort Worth', 'Washington, D.C.', 'Philadelphia', 'Boston', 'Minneapolis–Saint Paul', 'Denver', 'Miami–Fort Lauderdale', 'Detroit', 'Toronto', 'Houston', 'Atlanta', 'Tampa Bay Area', 'Pittsburgh', 'Cleveland', 'Seattle', 'Cincinnati', 'Kansas City', 'St. Louis', 'Baltimore', 'Charlotte', 'Indianapolis', 'Nashville', 'Milwaukee', 'New Orleans', 'Buffalo', 'Montreal', 'Vancouver', 'Orlando', 'Portland', 'Columbus', 'Calgary', 'Ottawa', 'Edmonton', 'Salt Lake City', 'Winnipeg', 'San Diego', 'San Antonio', 'Sacramento', 'Las Vegas', 'Jacksonville', 'Oklahoma City', 'Memphis', 'Raleigh', 'Green Bay', 'Hamilton', 'Regina', 'San Francisco Bay Area', 'Chicago', 'Dallas–Fort Worth', 'Washington, D.C.', 'Philadelphia', 'Boston', 'Minneapolis–Saint Paul', 'Denver', 'Miami–Fort Lauderdale', 'Detroit', 'Toronto', 'Houston', 'Atlanta', 'Tampa Bay Area', 'Pittsburgh', 'Cleveland', 'Seattle', 'Cincinnati', 'Kansas City', 'St. Louis', 'Baltimore', 'Charlotte', 'Indianapolis', 'Nashville', 'Milwaukee', 'New Orleans', 'Buffalo', 'Montreal', 'Vancouver', 'Orlando', 'Portland', 'Columbus', 'Calgary', 'Ottawa', 'Edmonton', 'Salt Lake City', 'Winnipeg', 'San Diego', 'San Antonio', 'Sacramento', 'Las Vegas', 'Jacksonville', 'Oklahoma City', 'Memphis', 'Raleigh', 'Green Bay', 'Hamilton', 'Regina', 'San Francisco Bay Area', 'Chicago', 'Dallas–Fort Worth', 'Washington, D.C.', 'Philadelphia', 'Boston', 'Minneapolis–Saint Paul', 'Denver', 'Miami–Fort Lauderdale', 'Detroit', 'Toronto', 'Houston', 'Atlanta', 'Tampa Bay Area', 'Pittsburgh', 'Cleveland', 'Seattle', 'Cincinnati', 'Kansas City', 'St. Louis', 'Baltimore', 'Charlotte', 'Indianapolis', 'Nashville', 'Milwaukee', 'New Orleans', 'Buffalo', 'Montreal', 'Vancouver', 'Orlando', 'Portland', 'Columbus', 'Calgary', 'Ottawa', 'Edmonton', 'Salt Lake City', 'Winnipeg', 'San Diego', 'San Antonio', 'Sacramento', 'Las Vegas', 'Jacksonville', 'Oklahoma City', 'Memphis', 'Raleigh', 'Green Bay', 'Hamilton', 'Regina', 'San Francisco Bay Area', 'Chicago', 'Dallas–Fort Worth', 'Washington, D.C.', 'Philadelphia', 'Boston', 'Minneapolis–Saint Paul', 'Denver', 'Miami–Fort Lauderdale', 'Detroit', 'Toronto', 'Houston', 'Atlanta', 'Tampa Bay Area', 'Pittsburgh', 'Cleveland', 'Seattle', 'Cincinnati', 'Kansas City', 'St. Louis', 'Baltimore', 'Charlotte', 'Indianapolis', 'Nashville', 'Milwaukee', 'New Orleans', 'Buffalo', 'Montreal', 'Vancouver', 'Orlando', 'Portland', 'Columbus', 'Calgary', 'Ottawa', 'Edmonton', 'Salt Lake City', 'Winnipeg', 'San Diego', 'San Antonio', 'Sacramento', 'Las Vegas', 'Jacksonville', 'Oklahoma City', 'Memphis', 'Raleigh', 'Green Bay', 'Hamilton', 'Regina', 'San Francisco Bay Area', 'Chicago', 'Dallas–Fort Worth', 'Washington, D.C.', 'Philadelphia', 'Boston', 'Minneapolis–Saint Paul', 'Denver', 'Miami–Fort Lauderdale', 'Detroit', 'Toronto', 'Houston', 'Atlanta', 'Tampa Bay Area', 'Pittsburgh', 'Cleveland', 'Seattle', 'Cincinnati', 'Kansas City', 'St. Louis', 'Baltimore', 'Charlotte', 'Indianapolis', 'Nashville', 'Milwaukee', 'New Orleans', 'Buffalo', 'Montreal', 'Vancouver', 'Orlando', 'Portland', 'Columbus', 'Calgary', 'Ottawa', 'Edmonton', 'Salt Lake City', 'Winnipeg', 'San Diego', 'San Antonio', 'Sacramento', 'Las Vegas', 'Jacksonville', 'Oklahoma City', 'Memphis', 'Raleigh', 'Green Bay', 'Hamilton', 'Regina', 'San Francisco Bay Area', 'Chicago', 'Dallas–Fort Worth', 'Washington, D.C.', 'Philadelphia', 'Boston', 'Minneapolis–Saint Paul', 'Denver', 'Miami–Fort Lauderdale', 'Detroit', 'Toronto', 'Houston', 'Atlanta', 'Tampa Bay Area', 'Pittsburgh', 'Cleveland', 'Seattle', 'Cincinnati', 'Kansas City', 'St. Louis', 'Baltimore', 'Charlotte', 'Indianapolis', 'Nashville', 'Milwaukee', 'New Orleans', 'Buffalo', 'Montreal', 'Vancouver', 'Orlando', 'Portland', 'Columbus', 'Calgary', 'Ottawa', 'Edmonton', 'Salt Lake City', 'Winnipeg', 'San Diego', 'San Antonio', 'Sacramento', 'Las Vegas', 'Jacksonville', 'Oklahoma City', 'Memphis', 'Raleigh', 'Green Bay', 'Hamilton', 'Regina', 'San Francisco Bay Area', 'Chicago', 'Dallas–Fort Worth', 'Washington, D.C.', 'Philadelphia', 'Boston', 'Minneapolis–Saint Paul', 'Denver', 'Miami–Fort Lauderdale', 'Detroit', 'Toronto', 'Houston', 'Atlanta', 'Tampa Bay Area', 'Pittsburgh', 'Cleveland', 'Seattle', 'Cincinnati', 'Kansas City', 'St. Louis', 'Baltimore', 'Charlotte', 'Indianapolis', 'Nashville', 'Milwaukee', 'New Orleans', 'Buffalo', 'Montreal', 'Vancouver', 'Orlando', 'Portland', 'Columbus', 'Calgary', 'Ottawa', 'Edmonton', 'Salt Lake City', 'Winnipeg', 'San Diego', 'San Antonio', 'Sacramento', 'Las Vegas', 'Jacksonville', 'Oklahoma City', 'Memphis', 'Raleigh', 'Green Bay', 'Hamilton', 'Regina', 'San Francisco Bay Area', 'Chicago', 'Dallas–Fort Worth', 'Washington, D.C.', 'Philadelphia', 'Boston', 'Minneapolis–Saint Paul', 'Denver', 'Miami–Fort Lauderdale', 'Detroit', 'Toronto', 'Houston', 'Atlanta', 'Tampa Bay Area', 'Pittsburgh', 'Cleveland', 'Seattle', 'Cincinnati', 'Kansas City', 'St. Louis', 'Baltimore', 'Charlotte', 'Indianapolis', 'Nashville', 'Milwaukee', 'New Orleans', 'Buffalo', 'Montreal', 'Vancouver', 'Orlando', 'Portland', 'Columbus', 'Calgary', 'Ottawa', 'Edmonton', 'Salt Lake City', 'Winnipeg', 'San Diego', 'San Antonio', 'Sacramento', 'Las Vegas', 'Jacksonville', 'Oklahoma City', 'Memphis', 'Raleigh', 'Green Bay', 'Hamilton', 'Regina', 'San Francisco Bay Area', 'Chicago', 'Dallas–Fort Worth', 'Washington, D.C.', 'Philadelphia', 'Boston', 'Minneapolis–Saint Paul', 'Denver', 'Miami–Fort Lauderdale', 'Detroit', 'Toronto', 'Houston', 'Atlanta', 'Tampa Bay Area', 'Pittsburgh', 'Cleveland', 'Seattle', 'Cincinnati', 'Kansas City', 'St. Louis', 'Baltimore', 'Charlotte', 'Indianapolis', 'Nashville', 'Milwaukee', 'New Orleans', 'Buffalo', 'Montreal', 'Vancouver', 'Orlando', 'Portland', 'Columbus', 'Calgary', 'Ottawa', 'Edmonton', 'Salt Lake City', 'Winnipeg', 'San Diego', 'San Antonio', 'Sacramento', 'Las Vegas', 'Jacksonville', 'Oklahoma City', 'Memphis', 'Raleigh', 'Green Bay', 'Hamilton', 'Regina', 'San Francisco Bay Area', 'Chicago', 'Dallas–Fort Worth', 'Washington, D.C.', 'Philadelphia', 'Boston', 'Minneapolis–Saint Paul', 'Denver', 'Miami–Fort Lauderdale', 'Detroit', 'Toronto', 'Houston', 'Atlanta', 'Tampa Bay Area', 'Pittsburgh', 'Cleveland', 'Seattle', 'Cincinnati', 'Kansas City', 'St. Louis', 'Baltimore', 'Charlotte', 'Indianapolis', 'Nashville', 'Milwaukee', 'New Orleans', 'Buffalo', 'Montreal', 'Vancouver', 'Orlando', 'Portland', 'Columbus', 'Calgary', 'Ottawa', 'Edmonton', 'Salt Lake City', 'Winnipeg', 'San Diego', 'San Antonio', 'Sacramento', 'Las Vegas', 'Jacksonville', 'Oklahoma City', 'Memphis', 'Raleigh', 'Green Bay', 'Hamilton', 'Regina']\n"
     ]
    },
    {
     "output_type": "error",
     "ename": "ValueError",
     "evalue": "Length of values does not match length of index",
     "traceback": [
      "\u001b[1;31m---------------------------------------------------------------------------\u001b[0m",
      "\u001b[1;31mValueError\u001b[0m                                Traceback (most recent call last)",
      "\u001b[1;32m<ipython-input-35-f04501d0c35f>\u001b[0m in \u001b[0;36m<module>\u001b[1;34m\u001b[0m\n\u001b[0;32m     30\u001b[0m \u001b[1;33m\u001b[0m\u001b[0m\n\u001b[0;32m     31\u001b[0m \u001b[1;33m\u001b[0m\u001b[0m\n\u001b[1;32m---> 32\u001b[1;33m \u001b[0mnba_df\u001b[0m\u001b[1;33m[\u001b[0m\u001b[1;34m'metropolitan area'\u001b[0m\u001b[1;33m]\u001b[0m \u001b[1;33m=\u001b[0m \u001b[0mmetroCityInOrder\u001b[0m\u001b[1;33m\u001b[0m\u001b[1;33m\u001b[0m\u001b[0m\n\u001b[0m\u001b[0;32m     33\u001b[0m \u001b[1;33m\u001b[0m\u001b[0m\n\u001b[0;32m     34\u001b[0m \u001b[1;31m# pd.DataFrame([np.random.random(100) for x in range(100)])\u001b[0m\u001b[1;33m\u001b[0m\u001b[1;33m\u001b[0m\u001b[1;33m\u001b[0m\u001b[0m\n",
      "\u001b[1;32m~\\anaconda3\\lib\\site-packages\\pandas\\core\\frame.py\u001b[0m in \u001b[0;36m__setitem__\u001b[1;34m(self, key, value)\u001b[0m\n\u001b[0;32m   2936\u001b[0m         \u001b[1;32melse\u001b[0m\u001b[1;33m:\u001b[0m\u001b[1;33m\u001b[0m\u001b[1;33m\u001b[0m\u001b[0m\n\u001b[0;32m   2937\u001b[0m             \u001b[1;31m# set column\u001b[0m\u001b[1;33m\u001b[0m\u001b[1;33m\u001b[0m\u001b[1;33m\u001b[0m\u001b[0m\n\u001b[1;32m-> 2938\u001b[1;33m             \u001b[0mself\u001b[0m\u001b[1;33m.\u001b[0m\u001b[0m_set_item\u001b[0m\u001b[1;33m(\u001b[0m\u001b[0mkey\u001b[0m\u001b[1;33m,\u001b[0m \u001b[0mvalue\u001b[0m\u001b[1;33m)\u001b[0m\u001b[1;33m\u001b[0m\u001b[1;33m\u001b[0m\u001b[0m\n\u001b[0m\u001b[0;32m   2939\u001b[0m \u001b[1;33m\u001b[0m\u001b[0m\n\u001b[0;32m   2940\u001b[0m     \u001b[1;32mdef\u001b[0m \u001b[0m_setitem_slice\u001b[0m\u001b[1;33m(\u001b[0m\u001b[0mself\u001b[0m\u001b[1;33m,\u001b[0m \u001b[0mkey\u001b[0m\u001b[1;33m,\u001b[0m \u001b[0mvalue\u001b[0m\u001b[1;33m)\u001b[0m\u001b[1;33m:\u001b[0m\u001b[1;33m\u001b[0m\u001b[1;33m\u001b[0m\u001b[0m\n",
      "\u001b[1;32m~\\anaconda3\\lib\\site-packages\\pandas\\core\\frame.py\u001b[0m in \u001b[0;36m_set_item\u001b[1;34m(self, key, value)\u001b[0m\n\u001b[0;32m   2998\u001b[0m \u001b[1;33m\u001b[0m\u001b[0m\n\u001b[0;32m   2999\u001b[0m         \u001b[0mself\u001b[0m\u001b[1;33m.\u001b[0m\u001b[0m_ensure_valid_index\u001b[0m\u001b[1;33m(\u001b[0m\u001b[0mvalue\u001b[0m\u001b[1;33m)\u001b[0m\u001b[1;33m\u001b[0m\u001b[1;33m\u001b[0m\u001b[0m\n\u001b[1;32m-> 3000\u001b[1;33m         \u001b[0mvalue\u001b[0m \u001b[1;33m=\u001b[0m \u001b[0mself\u001b[0m\u001b[1;33m.\u001b[0m\u001b[0m_sanitize_column\u001b[0m\u001b[1;33m(\u001b[0m\u001b[0mkey\u001b[0m\u001b[1;33m,\u001b[0m \u001b[0mvalue\u001b[0m\u001b[1;33m)\u001b[0m\u001b[1;33m\u001b[0m\u001b[1;33m\u001b[0m\u001b[0m\n\u001b[0m\u001b[0;32m   3001\u001b[0m         \u001b[0mNDFrame\u001b[0m\u001b[1;33m.\u001b[0m\u001b[0m_set_item\u001b[0m\u001b[1;33m(\u001b[0m\u001b[0mself\u001b[0m\u001b[1;33m,\u001b[0m \u001b[0mkey\u001b[0m\u001b[1;33m,\u001b[0m \u001b[0mvalue\u001b[0m\u001b[1;33m)\u001b[0m\u001b[1;33m\u001b[0m\u001b[1;33m\u001b[0m\u001b[0m\n\u001b[0;32m   3002\u001b[0m \u001b[1;33m\u001b[0m\u001b[0m\n",
      "\u001b[1;32m~\\anaconda3\\lib\\site-packages\\pandas\\core\\frame.py\u001b[0m in \u001b[0;36m_sanitize_column\u001b[1;34m(self, key, value, broadcast)\u001b[0m\n\u001b[0;32m   3634\u001b[0m \u001b[1;33m\u001b[0m\u001b[0m\n\u001b[0;32m   3635\u001b[0m             \u001b[1;31m# turn me into an ndarray\u001b[0m\u001b[1;33m\u001b[0m\u001b[1;33m\u001b[0m\u001b[1;33m\u001b[0m\u001b[0m\n\u001b[1;32m-> 3636\u001b[1;33m             \u001b[0mvalue\u001b[0m \u001b[1;33m=\u001b[0m \u001b[0msanitize_index\u001b[0m\u001b[1;33m(\u001b[0m\u001b[0mvalue\u001b[0m\u001b[1;33m,\u001b[0m \u001b[0mself\u001b[0m\u001b[1;33m.\u001b[0m\u001b[0mindex\u001b[0m\u001b[1;33m,\u001b[0m \u001b[0mcopy\u001b[0m\u001b[1;33m=\u001b[0m\u001b[1;32mFalse\u001b[0m\u001b[1;33m)\u001b[0m\u001b[1;33m\u001b[0m\u001b[1;33m\u001b[0m\u001b[0m\n\u001b[0m\u001b[0;32m   3637\u001b[0m             \u001b[1;32mif\u001b[0m \u001b[1;32mnot\u001b[0m \u001b[0misinstance\u001b[0m\u001b[1;33m(\u001b[0m\u001b[0mvalue\u001b[0m\u001b[1;33m,\u001b[0m \u001b[1;33m(\u001b[0m\u001b[0mnp\u001b[0m\u001b[1;33m.\u001b[0m\u001b[0mndarray\u001b[0m\u001b[1;33m,\u001b[0m \u001b[0mIndex\u001b[0m\u001b[1;33m)\u001b[0m\u001b[1;33m)\u001b[0m\u001b[1;33m:\u001b[0m\u001b[1;33m\u001b[0m\u001b[1;33m\u001b[0m\u001b[0m\n\u001b[0;32m   3638\u001b[0m                 \u001b[1;32mif\u001b[0m \u001b[0misinstance\u001b[0m\u001b[1;33m(\u001b[0m\u001b[0mvalue\u001b[0m\u001b[1;33m,\u001b[0m \u001b[0mlist\u001b[0m\u001b[1;33m)\u001b[0m \u001b[1;32mand\u001b[0m \u001b[0mlen\u001b[0m\u001b[1;33m(\u001b[0m\u001b[0mvalue\u001b[0m\u001b[1;33m)\u001b[0m \u001b[1;33m>\u001b[0m \u001b[1;36m0\u001b[0m\u001b[1;33m:\u001b[0m\u001b[1;33m\u001b[0m\u001b[1;33m\u001b[0m\u001b[0m\n",
      "\u001b[1;32m~\\anaconda3\\lib\\site-packages\\pandas\\core\\internals\\construction.py\u001b[0m in \u001b[0;36msanitize_index\u001b[1;34m(data, index, copy)\u001b[0m\n\u001b[0;32m    609\u001b[0m \u001b[1;33m\u001b[0m\u001b[0m\n\u001b[0;32m    610\u001b[0m     \u001b[1;32mif\u001b[0m \u001b[0mlen\u001b[0m\u001b[1;33m(\u001b[0m\u001b[0mdata\u001b[0m\u001b[1;33m)\u001b[0m \u001b[1;33m!=\u001b[0m \u001b[0mlen\u001b[0m\u001b[1;33m(\u001b[0m\u001b[0mindex\u001b[0m\u001b[1;33m)\u001b[0m\u001b[1;33m:\u001b[0m\u001b[1;33m\u001b[0m\u001b[1;33m\u001b[0m\u001b[0m\n\u001b[1;32m--> 611\u001b[1;33m         \u001b[1;32mraise\u001b[0m \u001b[0mValueError\u001b[0m\u001b[1;33m(\u001b[0m\u001b[1;34m\"Length of values does not match length of index\"\u001b[0m\u001b[1;33m)\u001b[0m\u001b[1;33m\u001b[0m\u001b[1;33m\u001b[0m\u001b[0m\n\u001b[0m\u001b[0;32m    612\u001b[0m \u001b[1;33m\u001b[0m\u001b[0m\n\u001b[0;32m    613\u001b[0m     \u001b[1;32mif\u001b[0m \u001b[0misinstance\u001b[0m\u001b[1;33m(\u001b[0m\u001b[0mdata\u001b[0m\u001b[1;33m,\u001b[0m \u001b[0mABCIndexClass\u001b[0m\u001b[1;33m)\u001b[0m \u001b[1;32mand\u001b[0m \u001b[1;32mnot\u001b[0m \u001b[0mcopy\u001b[0m\u001b[1;33m:\u001b[0m\u001b[1;33m\u001b[0m\u001b[1;33m\u001b[0m\u001b[0m\n",
      "\u001b[1;31mValueError\u001b[0m: Length of values does not match length of index"
     ]
    }
   ],
   "source": [
    "import pandas as pd\n",
    "import numpy as np\n",
    "import scipy.stats as stats\n",
    "import re\n",
    "\n",
    "nba_df=pd.read_csv(\"assests/nba.csv\")\n",
    "cities=pd.read_html(\"assests/wikipedia_data.html\")[1]\n",
    "cities=cities.iloc[:-1,[0,3,5,6,7,8]]\n",
    "\n",
    "cities = cities.replace('—', '')\n",
    "cities['NBA'] = cities['NBA'].str.replace('\\[.*]', '')\n",
    "\n",
    "\n",
    "nba_df['team']= nba_df['team'].str.replace('\\*','')\n",
    "nba_df['team']= nba_df['team'].str.replace('(.*)', '')\n",
    "# print(nba_df['team'])\n",
    "metroCityInOrder =[]\n",
    "for x in nba_df['team']:\n",
    "    r='none'\n",
    "    if \"Division\" in x:\n",
    "        metroCityInOrder.append(\"\")\n",
    "    for key, value in metroRegionNBA.items():\n",
    "        if x in value:\n",
    "            metroCityInOrder.append(key)\n",
    "            r=key\n",
    "    # print(x, r)        \n",
    "\n",
    "print(\"this is metro city in order\", len(metroCityInOrder), metroCityInOrder)\n",
    "# print(\"this is metro city in order\", len(metroCityInOrder))\n",
    "\n",
    "\n",
    "nba_df['metropolitan area'] = metroCityInOrder\n",
    "\n",
    "# pd.DataFrame([np.random.random(100) for x in range(100)])\n",
    "\n",
    "# print(cities['NHL'])\n",
    "word ='Division'\n",
    "# print(nhl_df[['team', 'metropolitan area','W','L','year']])\n",
    "nba_df_2018 = nba_df.loc[nba_df['year'] == 2018] \n",
    "nba_df_2018 = nba_df_2018.loc[~nba_df_2018['team'].str.contains(word, na=False)]\n",
    "population_by_region = cities.loc[cities['Metropolitan area'].isin(nba_df_2018['metropolitan area']),'Population (2016 est.)[8]'].astype(int)\n",
    "\n",
    "populationInOrderForNHL=[]\n",
    "for x in nba_df_2018['metropolitan area']:\n",
    "    for y in range(len(cities['Metropolitan area'])):\n",
    "        if x == cities['Metropolitan area'].iloc[y]:\n",
    "            populationInOrderForNHL.append(cities['Population (2016 est.)[8]'].iloc[y])\n",
    "nba_df_2018['population'] = populationInOrderForNHL\n",
    "# nhl_df_2018['population'] = cities.loc[cities['Metropolitan area'] == nhl_df_2018['metropolitan area'],'Population (2016 est.)[8]']\n",
    "nba_df_2018['win-loss-ratio'] = nba_df_2018['W'].astype(int)/(nhl_df_2018['W'].astype(int)+nba_df_2018['L'].astype(int))\n",
    "\n",
    "\n",
    "\n",
    "\n",
    "\n",
    "print(\"now the df\")\n",
    "# print(nhl_df_2018)\n",
    "print(nba_df_2018[['team', 'metropolitan area','W','L','win-loss-ratio','year', 'population']])\n",
    "\n",
    "print(cities[['Metropolitan area','Population (2016 est.)[8]', 'NBA']])\n",
    "# print(cities['Metropolitan area'])\n",
    "\n",
    "\n",
    "def nba_correlation():\n",
    "    # YOUR CODE HERE\n",
    "    raise NotImplementedError()\n",
    "    \n",
    "    population_by_region = [] # pass in metropolitan area population from cities\n",
    "    win_loss_by_region = [] # pass in win/loss ratio from nba_df in the same order as cities[\"Metropolitan area\"]\n",
    "\n",
    "    assert len(population_by_region) == len(win_loss_by_region), \"Q2: Your lists must be the same length\"\n",
    "    assert len(population_by_region) == 28, \"Q2: There should be 28 teams being analysed for NBA\"\n",
    "\n",
    "    return stats.pearsonr(population_by_region, win_loss_by_region)"
   ]
  },
  {
   "cell_type": "code",
   "execution_count": null,
   "metadata": {
    "deletable": false,
    "editable": false,
    "nbgrader": {
     "checksum": "bbdeb8eb22f525a34c10dc8798324e42",
     "grade": true,
     "grade_id": "cell-e573b2b4a282b470",
     "locked": true,
     "points": 20,
     "schema_version": 1,
     "solution": false
    }
   },
   "outputs": [],
   "source": []
  },
  {
   "cell_type": "markdown",
   "metadata": {
    "deletable": false,
    "editable": false,
    "nbgrader": {
     "checksum": "1a1a5809f675ca033086422007cd73bd",
     "grade": false,
     "grade_id": "cell-96e15e4335df78f4",
     "locked": true,
     "schema_version": 1,
     "solution": false
    }
   },
   "source": [
    "## Question 3\n",
    "For this question, calculate the win/loss ratio's correlation with the population of the city it is in for the **MLB** using **2018** data."
   ]
  },
  {
   "cell_type": "code",
   "execution_count": null,
   "metadata": {
    "deletable": false,
    "nbgrader": {
     "checksum": "27e8c0da6c9fa0dffc10488314335b6c",
     "grade": false,
     "grade_id": "cell-33b00fc3f3467b0c",
     "locked": false,
     "schema_version": 1,
     "solution": true
    }
   },
   "outputs": [],
   "source": [
    "import pandas as pd\n",
    "import numpy as np\n",
    "import scipy.stats as stats\n",
    "import re\n",
    "\n",
    "mlb_df=pd.read_csv(\"assets/mlb.csv\")\n",
    "cities=pd.read_html(\"assets/wikipedia_data.html\")[1]\n",
    "cities=cities.iloc[:-1,[0,3,5,6,7,8]]\n",
    "\n",
    "def mlb_correlation(): \n",
    "    # YOUR CODE HERE\n",
    "    raise NotImplementedError()\n",
    "    \n",
    "    population_by_region = [] # pass in metropolitan area population from cities\n",
    "    win_loss_by_region = [] # pass in win/loss ratio from mlb_df in the same order as cities[\"Metropolitan area\"]\n",
    "\n",
    "    assert len(population_by_region) == len(win_loss_by_region), \"Q3: Your lists must be the same length\"\n",
    "    assert len(population_by_region) == 26, \"Q3: There should be 26 teams being analysed for MLB\"\n",
    "\n",
    "    return stats.pearsonr(population_by_region, win_loss_by_region)"
   ]
  },
  {
   "cell_type": "code",
   "execution_count": null,
   "metadata": {
    "deletable": false,
    "editable": false,
    "nbgrader": {
     "checksum": "cda33b094ba19ccc37a481e0dd29e0bc",
     "grade": true,
     "grade_id": "cell-764d4476f425c5a2",
     "locked": true,
     "points": 20,
     "schema_version": 1,
     "solution": false
    }
   },
   "outputs": [],
   "source": []
  },
  {
   "cell_type": "markdown",
   "metadata": {
    "deletable": false,
    "editable": false,
    "nbgrader": {
     "checksum": "6977a6da9ed6d8b7a0b7e37bbeda709b",
     "grade": false,
     "grade_id": "cell-793df6c04dfb126e",
     "locked": true,
     "schema_version": 1,
     "solution": false
    }
   },
   "source": [
    "## Question 4\n",
    "For this question, calculate the win/loss ratio's correlation with the population of the city it is in for the **NFL** using **2018** data."
   ]
  },
  {
   "cell_type": "code",
   "execution_count": null,
   "metadata": {
    "deletable": false,
    "nbgrader": {
     "checksum": "c4914ad1e119278ec2bd567c52640b66",
     "grade": false,
     "grade_id": "cell-8ccebc209aeec8d9",
     "locked": false,
     "schema_version": 1,
     "solution": true
    }
   },
   "outputs": [],
   "source": [
    "import pandas as pd\n",
    "import numpy as np\n",
    "import scipy.stats as stats\n",
    "import re\n",
    "\n",
    "nfl_df=pd.read_csv(\"assets/nfl.csv\")\n",
    "cities=pd.read_html(\"assets/wikipedia_data.html\")[1]\n",
    "cities=cities.iloc[:-1,[0,3,5,6,7,8]]\n",
    "\n",
    "def nfl_correlation(): \n",
    "    # YOUR CODE HERE\n",
    "    raise NotImplementedError()\n",
    "    \n",
    "    population_by_region = [] # pass in metropolitan area population from cities\n",
    "    win_loss_by_region = [] # pass in win/loss ratio from nfl_df in the same order as cities[\"Metropolitan area\"]\n",
    "\n",
    "    assert len(population_by_region) == len(win_loss_by_region), \"Q4: Your lists must be the same length\"\n",
    "    assert len(population_by_region) == 29, \"Q4: There should be 29 teams being analysed for NFL\"\n",
    "\n",
    "    return stats.pearsonr(population_by_region, win_loss_by_region)"
   ]
  },
  {
   "cell_type": "code",
   "execution_count": null,
   "metadata": {
    "deletable": false,
    "editable": false,
    "nbgrader": {
     "checksum": "e9415d6399aa49e3a1a60813afdefa3b",
     "grade": true,
     "grade_id": "cell-de7b148b9554dbda",
     "locked": true,
     "points": 20,
     "schema_version": 1,
     "solution": false
    }
   },
   "outputs": [],
   "source": []
  },
  {
   "cell_type": "markdown",
   "metadata": {
    "deletable": false,
    "editable": false,
    "nbgrader": {
     "checksum": "b02d5cd3273f561e4ae939bb2a41740c",
     "grade": false,
     "grade_id": "cell-97b49d8639e908c4",
     "locked": true,
     "schema_version": 1,
     "solution": false
    }
   },
   "source": [
    "## Question 5\n",
    "In this question I would like you to explore the hypothesis that **given that an area has two sports teams in different sports, those teams will perform the same within their respective sports**. How I would like to see this explored is with a series of paired t-tests (so use [`ttest_rel`](https://docs.scipy.org/doc/scipy/reference/generated/scipy.stats.ttest_rel.html)) between all pairs of sports. Are there any sports where we can reject the null hypothesis? Again, average values where a sport has multiple teams in one region. Remember, you will only be including, for each sport, cities which have teams engaged in that sport, drop others as appropriate. This question is worth 20% of the grade for this assignment."
   ]
  },
  {
   "cell_type": "code",
   "execution_count": null,
   "metadata": {
    "deletable": false,
    "nbgrader": {
     "checksum": "6d78c961eb66f8d8c81f06d33ae8f393",
     "grade": false,
     "grade_id": "cell-92f25f44b8d1179f",
     "locked": false,
     "schema_version": 1,
     "solution": true
    }
   },
   "outputs": [],
   "source": [
    "import pandas as pd\n",
    "import numpy as np\n",
    "import scipy.stats as stats\n",
    "import re\n",
    "\n",
    "mlb_df=pd.read_csv(\"assets/mlb.csv\")\n",
    "nhl_df=pd.read_csv(\"assets/nhl.csv\")\n",
    "nba_df=pd.read_csv(\"assets/nba.csv\")\n",
    "nfl_df=pd.read_csv(\"assets/nfl.csv\")\n",
    "cities=pd.read_html(\"assets/wikipedia_data.html\")[1]\n",
    "cities=cities.iloc[:-1,[0,3,5,6,7,8]]\n",
    "\n",
    "def sports_team_performance():\n",
    "    # YOUR CODE HERE\n",
    "    raise NotImplementedError()\n",
    "    \n",
    "    # Note: p_values is a full dataframe, so df.loc[\"NFL\",\"NBA\"] should be the same as df.loc[\"NBA\",\"NFL\"] and\n",
    "    # df.loc[\"NFL\",\"NFL\"] should return np.nan\n",
    "    sports = ['NFL', 'NBA', 'NHL', 'MLB']\n",
    "    p_values = pd.DataFrame({k:np.nan for k in sports}, index=sports)\n",
    "    \n",
    "    assert abs(p_values.loc[\"NBA\", \"NHL\"] - 0.02) <= 1e-2, \"The NBA-NHL p-value should be around 0.02\"\n",
    "    assert abs(p_values.loc[\"MLB\", \"NFL\"] - 0.80) <= 1e-2, \"The MLB-NFL p-value should be around 0.80\"\n",
    "    return p_values"
   ]
  },
  {
   "cell_type": "code",
   "execution_count": null,
   "metadata": {
    "deletable": false,
    "editable": false,
    "nbgrader": {
     "checksum": "2a596ab421a45cc01168d10e8fbb8f89",
     "grade": true,
     "grade_id": "cell-fb4b9cb5ff4570a6",
     "locked": true,
     "points": 20,
     "schema_version": 1,
     "solution": false
    }
   },
   "outputs": [],
   "source": [
    "New York City\n",
    "Los Angeles\n",
    "San Francisco Bay Area\n",
    "Chicago\n",
    "Dallas–Fort Worth\n",
    "Washington, D.C.\n",
    "Philadelphia\n",
    "Boston\n",
    "Minneapolis–Saint Paul\n",
    "Denver\n",
    "Miami–Fort Lauderdale\n",
    "Phoenix\n",
    "Detroit\n",
    "Toronto\n",
    "Houston\n",
    "Atlanta\n",
    "Tampa Bay Area\n",
    "Pittsburgh\n",
    "Cleveland\n",
    "Seattle\n",
    "Cincinnati\n",
    "Kansas City\n",
    "St. Louis\n",
    "Baltimore\n",
    "Charlotte\n",
    "Indianapolis\n",
    "Nashville\n",
    "Milwaukee\n",
    "New Orleans\n",
    "Buffalo\n",
    "Montreal\n",
    "Vancouver\n",
    "Orlando\n",
    "Portland\n",
    "Columbus\n",
    "Calgary\n",
    "Ottawa\n",
    "Edmonton\n",
    "Salt Lake City\n",
    "Winnipeg\n",
    "San Diego\n",
    "San Antonio\n",
    "Sacramento\n",
    "Las Vegas\n",
    "Jacksonville\n",
    "Oklahoma City\n",
    "Memphis\n",
    "Raleigh\n",
    "Green Bay\n",
    "Hamilton\n",
    "Regina\n"
   ]
  }
 ],
 "metadata": {
  "coursera": {
   "schema_names": [
    "mooc_adswpy_1_v2_assignment4"
   ]
  },
  "kernelspec": {
   "display_name": "Python 3",
   "language": "python",
   "name": "python3"
  },
  "language_info": {
   "codemirror_mode": {
    "name": "ipython",
    "version": 3
   },
   "file_extension": ".py",
   "mimetype": "text/x-python",
   "name": "python",
   "nbconvert_exporter": "python",
   "pygments_lexer": "ipython3",
   "version": "3.8.3-final"
  }
 },
 "nbformat": 4,
 "nbformat_minor": 4
}